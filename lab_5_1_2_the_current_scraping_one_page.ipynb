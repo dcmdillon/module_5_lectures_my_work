{
 "cells": [
  {
   "cell_type": "markdown",
   "metadata": {},
   "source": [
    "# Case Study - The Current - Part 2\n",
    "\n",
    "* The Current is an alternative radio station\n",
    "* We will pull information about the play list."
   ]
  },
  {
   "cell_type": "markdown",
   "metadata": {},
   "source": [
    "# Step 0 - Insert current progress\n",
    "\n",
    "Copy over all the relevant code from part 1 of the lab.\n",
    "\n",
    "http://www.thecurrent.org/playlist/2014-01-01/01"
   ]
  },
  {
   "cell_type": "code",
   "execution_count": 2,
   "metadata": {
    "scrolled": true
   },
   "outputs": [],
   "source": [
    "from composablesoup import find, find_all, get_text, has_attr\n",
    "from composable.sequence import slice, head\n",
    "from composable.strict import map, filter\n",
    "from composable.string import replace, strip\n",
    "from composable import from_toolz as tlz\n",
    "from toolz import get\n",
    "from composable import pipeable\n",
    "import re"
   ]
  },
  {
   "cell_type": "code",
   "execution_count": 3,
   "metadata": {
    "scrolled": false
   },
   "outputs": [],
   "source": [
    "import requests\n",
    "from bs4 import BeautifulSoup\n",
    "s = requests.Session()\n",
    "r = s.get('https://www.thecurrent.org/playlist/2014-01-01/01')\n",
    "current = BeautifulSoup(r.content, 'html.parser')"
   ]
  },
  {
   "cell_type": "markdown",
   "metadata": {},
   "source": [
    "# Pull off the song start time\n",
    "\n",
    "1. Inspect the element\n",
    "    1. This one is tricky\n",
    "    2. Time tag does not have a tag, but\n",
    "    3. The surrounding div does have a class\n",
    "2. Identify the html tag and class\n",
    "3. Use `find_all` to make a list of all relevant tags\n",
    "4. Pull off an example case\n",
    "5. Write a function that extracts the start time.\n",
    "6. Write a single pipe to extract the start time.\n",
    "7. Confirm you have the right number of times.\n",
    "8. Package your code in a function called `get_start_time`"
   ]
  },
  {
   "cell_type": "code",
   "execution_count": 4,
   "metadata": {
    "scrolled": true
   },
   "outputs": [],
   "source": [
    "get_start_time = pipeable(lambda soup: soup\n",
    " >>find_all('div', attrs={'class':'two columns songTime'})\n",
    " >>map(get_text)\n",
    " >>map(strip)\n",
    ")"
   ]
  },
  {
   "cell_type": "code",
   "execution_count": 5,
   "metadata": {
    "scrolled": false
   },
   "outputs": [
    {
     "data": {
      "text/plain": [
       "['1:59',\n",
       " '1:54',\n",
       " '1:51',\n",
       " '1:46',\n",
       " '1:44',\n",
       " '1:38',\n",
       " '1:34',\n",
       " '1:31',\n",
       " '1:27',\n",
       " '1:23',\n",
       " '1:19',\n",
       " '1:13',\n",
       " '1:09',\n",
       " '1:05',\n",
       " '1:03',\n",
       " '1:01']"
      ]
     },
     "execution_count": 5,
     "metadata": {},
     "output_type": "execute_result"
    }
   ],
   "source": [
    "get_start_time(current)"
   ]
  },
  {
   "cell_type": "code",
   "execution_count": null,
   "metadata": {
    "scrolled": true
   },
   "outputs": [],
   "source": []
  },
  {
   "cell_type": "code",
   "execution_count": null,
   "metadata": {
    "scrolled": true
   },
   "outputs": [],
   "source": []
  },
  {
   "cell_type": "code",
   "execution_count": null,
   "metadata": {
    "scrolled": true
   },
   "outputs": [],
   "source": []
  },
  {
   "cell_type": "code",
   "execution_count": null,
   "metadata": {
    "scrolled": true
   },
   "outputs": [],
   "source": []
  },
  {
   "cell_type": "code",
   "execution_count": null,
   "metadata": {
    "scrolled": false
   },
   "outputs": [],
   "source": []
  },
  {
   "cell_type": "markdown",
   "metadata": {},
   "source": [
    "# Pull address of the album art image address\n",
    "\n",
    "Follow a similar process to pull off the web address of the album cover image. \n"
   ]
  },
  {
   "cell_type": "code",
   "execution_count": 6,
   "metadata": {
    "scrolled": true
   },
   "outputs": [],
   "source": [
    "get_src = pipeable(lambda l: l[\"data-src\"] if l[\"src\"] == \"\" else l[\"src\"])\n",
    "\n",
    "get_album_art = pipeable(lambda soup: soup\n",
    " >>find_all('img', attrs={'class': re.compile('album-art')})\n",
    " >>map(get_src)\n",
    ")"
   ]
  },
  {
   "cell_type": "code",
   "execution_count": 7,
   "metadata": {
    "scrolled": false
   },
   "outputs": [
    {
     "data": {
      "text/plain": [
       "['https://albumart.publicradio.org/mb/e2/e2749c25-c2b6-493e-a2bb-10898152bd2d_5158.jpg',\n",
       " '/assets/album-cover-default-32217dc68a771f3a44aa2b7a640cf91133b61bd1f2ae68c9ddb00055e9a8ac1d.png',\n",
       " '/assets/album-cover-default-32217dc68a771f3a44aa2b7a640cf91133b61bd1f2ae68c9ddb00055e9a8ac1d.png',\n",
       " 'https://albumart.publicradio.org/mb/5e/5e5c8b95-d04c-432f-8cd2-c1c8d99e6e5a_3556.jpg',\n",
       " 'https://albumart.publicradio.org/mb/48/48445b64-d965-369a-af3c-8193de389fd8_3ff4.jpg',\n",
       " '/assets/album-cover-default-32217dc68a771f3a44aa2b7a640cf91133b61bd1f2ae68c9ddb00055e9a8ac1d.png',\n",
       " '/assets/album-cover-default-32217dc68a771f3a44aa2b7a640cf91133b61bd1f2ae68c9ddb00055e9a8ac1d.png',\n",
       " 'https://albumart.publicradio.org/mb/e9/e999c049-c65b-4c5e-ad12-5596998679c7_92f9.jpg',\n",
       " 'https://albumart.publicradio.org/mb/d6/d62320e2-20c4-4589-aa76-2f8ac28447dd_e03b.jpg',\n",
       " 'https://albumart.publicradio.org/mb/02/028b8602-3bde-495a-a7da-15594fc4f786_351a.jpg',\n",
       " 'https://albumart.publicradio.org/mb/c9/c92f73ee-527f-42ed-a556-fd615941e214_78f0.jpg',\n",
       " '/assets/album-cover-default-32217dc68a771f3a44aa2b7a640cf91133b61bd1f2ae68c9ddb00055e9a8ac1d.png',\n",
       " 'https://albumart.publicradio.org/mb/24/24084807-5d23-423e-b1f3-5e9fd874e240_6ccd.jpg',\n",
       " 'https://albumart.publicradio.org/mb/c2/c20be759-d767-4a7c-96c5-7a870ebc3a30_7f7d.jpg',\n",
       " 'https://albumart.publicradio.org/mb/37/37f48931-e5e6-488f-a531-ad2db311158d_7446.jpg',\n",
       " 'https://albumart.publicradio.org/mb/1a/1aa41b19-5a72-341b-bd91-4cf61d1dab6b_8e05.jpg']"
      ]
     },
     "execution_count": 7,
     "metadata": {},
     "output_type": "execute_result"
    }
   ],
   "source": [
    "get_album_art(current)"
   ]
  },
  {
   "cell_type": "code",
   "execution_count": null,
   "metadata": {
    "scrolled": true
   },
   "outputs": [],
   "source": []
  },
  {
   "cell_type": "code",
   "execution_count": null,
   "metadata": {
    "scrolled": true
   },
   "outputs": [],
   "source": []
  },
  {
   "cell_type": "code",
   "execution_count": null,
   "metadata": {
    "scrolled": true
   },
   "outputs": [],
   "source": []
  },
  {
   "cell_type": "code",
   "execution_count": null,
   "metadata": {
    "scrolled": true
   },
   "outputs": [],
   "source": []
  },
  {
   "cell_type": "code",
   "execution_count": null,
   "metadata": {
    "scrolled": false
   },
   "outputs": [],
   "source": []
  },
  {
   "cell_type": "markdown",
   "metadata": {},
   "source": [
    "# Putting it all together\n",
    "\n",
    "* Make a function for each of the previous steps\n",
    "* Make an overall function\n",
    "    * input is a soup\n",
    "    * output is a list of lists\n",
    "\n",
    "**Hint:** You should use `zip` to put all the information together."
   ]
  },
  {
   "cell_type": "code",
   "execution_count": 8,
   "metadata": {},
   "outputs": [],
   "source": [
    "get_artist = pipeable(lambda soup: soup\n",
    " >>find_all('h5', attrs={'class':'artist'})\n",
    " >>map(get_text)\n",
    ")\n",
    "\n",
    "get_title = pipeable(lambda soup: soup\n",
    " >>find_all('h5', attrs={'class':'title'})\n",
    " >>map(get_text)\n",
    ")\n",
    "\n",
    "def get_day(soup):\n",
    "    \n",
    "    remove_trail = pipeable(lambda s: s.split(\",\")[0])\n",
    "    \n",
    "    return (soup\n",
    "     >>find('a', attrs={'class':'start-picker'})\n",
    "     >>get_text\n",
    "     >>strip\n",
    "     >>remove_trail\n",
    "    )\n",
    "\n",
    "def get_djName(soup):\n",
    "    \n",
    "    remove_label = pipeable(lambda l: l[4:])\n",
    "    \n",
    "    return (soup\n",
    "     >>find('h5', attrs={'class':'currentDj'})\n",
    "     >>get_text\n",
    "     >>strip\n",
    "     >>remove_label\n",
    "    )\n",
    "\n",
    "def get_timePeriod(soup):\n",
    "    \n",
    "    get_timePeriodFromString = pipeable(lambda l: l[-2:])\n",
    "\n",
    "    return (soup\n",
    "     >>find('span', attrs={'class':'hour-header open'})\n",
    "     >>get_text\n",
    "     >>strip\n",
    "     >>get_timePeriodFromString\n",
    "    )"
   ]
  },
  {
   "cell_type": "code",
   "execution_count": 19,
   "metadata": {},
   "outputs": [
    {
     "data": {
      "text/plain": [
       "[['Holy Roller',\n",
       "  'Thao and The Get Down Stay Down',\n",
       "  'https://albumart.publicradio.org/mb/e2/e2749c25-c2b6-493e-a2bb-10898152bd2d_5158.jpg',\n",
       "  '1:59',\n",
       "  'am',\n",
       "  'Wednesday',\n",
       "  'Mary Lucia'],\n",
       " ['Kingdom of Rust',\n",
       "  'Doves',\n",
       "  '/assets/album-cover-default-32217dc68a771f3a44aa2b7a640cf91133b61bd1f2ae68c9ddb00055e9a8ac1d.png',\n",
       "  '1:54',\n",
       "  'am',\n",
       "  'Wednesday',\n",
       "  'Mary Lucia'],\n",
       " ['Black Dog',\n",
       "  'Frankie Lee',\n",
       "  '/assets/album-cover-default-32217dc68a771f3a44aa2b7a640cf91133b61bd1f2ae68c9ddb00055e9a8ac1d.png',\n",
       "  '1:51',\n",
       "  'am',\n",
       "  'Wednesday',\n",
       "  'Mary Lucia'],\n",
       " ['Turn It Around',\n",
       "  'Lucius',\n",
       "  'https://albumart.publicradio.org/mb/5e/5e5c8b95-d04c-432f-8cd2-c1c8d99e6e5a_3556.jpg',\n",
       "  '1:46',\n",
       "  'am',\n",
       "  'Wednesday',\n",
       "  'Mary Lucia'],\n",
       " ['Flavor of the Month',\n",
       "  'The Posies',\n",
       "  'https://albumart.publicradio.org/mb/48/48445b64-d965-369a-af3c-8193de389fd8_3ff4.jpg',\n",
       "  '1:44',\n",
       "  'am',\n",
       "  'Wednesday',\n",
       "  'Mary Lucia'],\n",
       " ['Potential Wife',\n",
       "  'Strange Names',\n",
       "  '/assets/album-cover-default-32217dc68a771f3a44aa2b7a640cf91133b61bd1f2ae68c9ddb00055e9a8ac1d.png',\n",
       "  '1:38',\n",
       "  'am',\n",
       "  'Wednesday',\n",
       "  'Mary Lucia'],\n",
       " ['24 Hours',\n",
       "  'Sky Ferreira',\n",
       "  '/assets/album-cover-default-32217dc68a771f3a44aa2b7a640cf91133b61bd1f2ae68c9ddb00055e9a8ac1d.png',\n",
       "  '1:34',\n",
       "  'am',\n",
       "  'Wednesday',\n",
       "  'Mary Lucia'],\n",
       " [\"Who's Gonna Shoe Your Pretty Little Feet?\",\n",
       "  'Billie Joe and Norah',\n",
       "  'https://albumart.publicradio.org/mb/e9/e999c049-c65b-4c5e-ad12-5596998679c7_92f9.jpg',\n",
       "  '1:31',\n",
       "  'am',\n",
       "  'Wednesday',\n",
       "  'Mary Lucia'],\n",
       " ['Marigold',\n",
       "  'J. Roddy Walston and The Business',\n",
       "  'https://albumart.publicradio.org/mb/d6/d62320e2-20c4-4589-aa76-2f8ac28447dd_e03b.jpg',\n",
       "  '1:27',\n",
       "  'am',\n",
       "  'Wednesday',\n",
       "  'Mary Lucia'],\n",
       " ['High Road',\n",
       "  'Cults',\n",
       "  'https://albumart.publicradio.org/mb/02/028b8602-3bde-495a-a7da-15594fc4f786_351a.jpg',\n",
       "  '1:23',\n",
       "  'am',\n",
       "  'Wednesday',\n",
       "  'Mary Lucia'],\n",
       " ['The Vampyre Of Time and Memory',\n",
       "  'Queens of the Stone Age',\n",
       "  'https://albumart.publicradio.org/mb/c9/c92f73ee-527f-42ed-a556-fd615941e214_78f0.jpg',\n",
       "  '1:19',\n",
       "  'am',\n",
       "  'Wednesday',\n",
       "  'Mary Lucia'],\n",
       " ['Valerie Plame',\n",
       "  'The Decemberists',\n",
       "  '/assets/album-cover-default-32217dc68a771f3a44aa2b7a640cf91133b61bd1f2ae68c9ddb00055e9a8ac1d.png',\n",
       "  '1:13',\n",
       "  'am',\n",
       "  'Wednesday',\n",
       "  'Mary Lucia'],\n",
       " ['Morning Song',\n",
       "  'The Avett Brothers',\n",
       "  'https://albumart.publicradio.org/mb/24/24084807-5d23-423e-b1f3-5e9fd874e240_6ccd.jpg',\n",
       "  '1:09',\n",
       "  'am',\n",
       "  'Wednesday',\n",
       "  'Mary Lucia'],\n",
       " ['(You Will) Set The World On Fire',\n",
       "  'David Bowie',\n",
       "  'https://albumart.publicradio.org/mb/c2/c20be759-d767-4a7c-96c5-7a870ebc3a30_7f7d.jpg',\n",
       "  '1:05',\n",
       "  'am',\n",
       "  'Wednesday',\n",
       "  'Mary Lucia'],\n",
       " ['Sixteen Saltines',\n",
       "  'Jack White',\n",
       "  'https://albumart.publicradio.org/mb/37/37f48931-e5e6-488f-a531-ad2db311158d_7446.jpg',\n",
       "  '1:03',\n",
       "  'am',\n",
       "  'Wednesday',\n",
       "  'Mary Lucia'],\n",
       " ['Wave of Mutilation',\n",
       "  'Pixies',\n",
       "  'https://albumart.publicradio.org/mb/1a/1aa41b19-5a72-341b-bd91-4cf61d1dab6b_8e05.jpg',\n",
       "  '1:01',\n",
       "  'am',\n",
       "  'Wednesday',\n",
       "  'Mary Lucia']]"
      ]
     },
     "execution_count": 19,
     "metadata": {},
     "output_type": "execute_result"
    }
   ],
   "source": [
    "def get_Radio_info(soup):\n",
    "    \n",
    "    titles = get_title(soup)\n",
    "    artists = get_artist(soup)\n",
    "    covers = get_album_art(soup)\n",
    "    times = get_start_time(soup)\n",
    "    timePeriod = get_timePeriod(soup)\n",
    "    day = get_day(soup)\n",
    "    dj = get_djName(soup)\n",
    "    \n",
    "    radio = [list(a) for a in zip(titles,artists,covers,times)]\n",
    "    radio = [[t,a,c,tm,timePeriod,day,dj] for t,a,c,tm in radio]\n",
    "    \n",
    "    return radio\n",
    "\n",
    "get_Radio_info(current)"
   ]
  },
  {
   "cell_type": "code",
   "execution_count": null,
   "metadata": {},
   "outputs": [],
   "source": []
  },
  {
   "cell_type": "code",
   "execution_count": null,
   "metadata": {},
   "outputs": [],
   "source": []
  },
  {
   "cell_type": "code",
   "execution_count": null,
   "metadata": {},
   "outputs": [],
   "source": []
  }
 ],
 "metadata": {
  "anaconda-cloud": {},
  "kernelspec": {
   "display_name": "Python 3",
   "language": "python",
   "name": "python3"
  },
  "language_info": {
   "codemirror_mode": {
    "name": "ipython",
    "version": 3
   },
   "file_extension": ".py",
   "mimetype": "text/x-python",
   "name": "python",
   "nbconvert_exporter": "python",
   "pygments_lexer": "ipython3",
   "version": "3.7.6"
  }
 },
 "nbformat": 4,
 "nbformat_minor": 1
}
